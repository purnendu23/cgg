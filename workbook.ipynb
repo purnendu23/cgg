{
 "cells": [
  {
   "cell_type": "code",
   "execution_count": 18,
   "metadata": {},
   "outputs": [],
   "source": [
    "from sklearn.base import BaseEstimator, TransformerMixin\n",
    "from sklearn.pipeline import Pipeline, FeatureUnion\n",
    "from sklearn.preprocessing import OneHotEncoder, StandardScaler, LabelEncoder\n",
    "from sklearn.model_selection import cross_val_score\n",
    "from sklearn.model_selection import KFold\n",
    "from sklearn.preprocessing import MinMaxScaler\n",
    "\n",
    "import matplotlib.pyplot as plt\n",
    "import seaborn as sb\n",
    "import pandas as pd\n",
    "import numpy as np\n",
    "import os\n",
    "import warnings\n",
    "\n",
    "warnings.filterwarnings('ignore')\n",
    "warnings.filterwarnings('ignore', category=DeprecationWarning)\n",
    "\n",
    "from utils import *"
   ]
  },
  {
   "cell_type": "code",
   "execution_count": 19,
   "metadata": {},
   "outputs": [
    {
     "name": "stdout",
     "output_type": "stream",
     "text": [
      "Excluded feature set(no variation):\n",
      "['RESTART', 'ATTR02', 'ATTR07', 'RESENTSHOTS', 'NTHREADS', 'ATTR09', 'ATTR11', 'ATTR12', 'ATTR13', 'ATTR14', 'ATTR15', 'ATTR16', 'ATTR19', 'ATTR22', 'ATTR23', 'ATTR24', 'ATTR26', 'ATTR27', 'ATTR28', 'ATTR29', 'ATTR20.1', 'ATTR31', 'ATTR32', 'ATTR38', 'ATTR39', 'ATTR30', 'ATTR31.1', 'ATTR32.1']\n"
     ]
    }
   ],
   "source": [
    "\n",
    "DATA_FOLDER=\"./data/\"\n",
    "alldatafile = \"allData_pkaul.csv\"\n",
    "train_file = \"trainData_pkaul.csv\"\n",
    "test_file = \"testData_pkaul.csv\"\n",
    "\n",
    "train_in = pd.read_csv(os.path.join(DATA_FOLDER, train_file))\n",
    "test_in = pd.read_csv(os.path.join(DATA_FOLDER, test_file))\n",
    "all_in = pd.read_csv(os.path.join(DATA_FOLDER, alldatafile))\n",
    "\n",
    "\n",
    "# remove all features with no variation at all\n",
    "df = all_in.std().reset_index()\n",
    "df.rename(columns={'index':'feature', 0:'stddev'}, inplace=True)\n",
    "exclude_list = list(df[df.stddev==0].feature.unique())\n",
    "exclude_list_add = ['RESTART', 'ATTR02', 'ATTR07']\n",
    "\n",
    "print(\"Excluded feature set(no variation):\\n{}\".format(exclude_list_add + exclude_list))\n",
    "\n",
    "train_in.drop(columns=exclude_list_add + exclude_list, inplace=True)\n",
    "test_in.drop(columns=exclude_list_add + exclude_list, inplace=True)\n",
    "all_in.drop(columns=exclude_list_add + exclude_list, inplace=True)\n",
    "\n",
    "train_in.set_index('ID', inplace = True)\n",
    "test_in.set_index('ID', inplace = True)\n",
    "all_in.set_index('ID', inplace = True)\n",
    "\n",
    "train_in.columns = [c.lower() for c in train_in.columns]\n",
    "test_in.columns = [c.lower() for c in test_in.columns]\n",
    "all_in.columns = [c.lower() for c in all_in.columns]\n"
   ]
  },
  {
   "cell_type": "code",
   "execution_count": null,
   "metadata": {},
   "outputs": [],
   "source": []
  },
  {
   "cell_type": "code",
   "execution_count": 20,
   "metadata": {},
   "outputs": [
    {
     "name": "stdout",
     "output_type": "stream",
     "text": [
      "(57636, 23)\n",
      "Index(['node_minutes', 'nodes', 'executionstart', 'shots', 'scname', 'ncpu',\n",
      "       'attr01', 'attr03', 'attr04', 'attr05', 'attr06', 'attr08', 'attr10',\n",
      "       'attr17', 'attr18', 'attr20', 'attr21', 'attr25', 'attr33', 'attr34',\n",
      "       'attr35', 'attr36', 'attr37'],\n",
      "      dtype='object')\n"
     ]
    }
   ],
   "source": [
    "print(train_in.shape)\n",
    "print(train_in.columns)"
   ]
  },
  {
   "cell_type": "markdown",
   "metadata": {},
   "source": [
    "#### Notes:\n",
    "\n",
    "1. attr08 can possibly be made a catg-variable becasue most of the values are zeros and besides that there are very few unique vales- 'binning'\n",
    "2. attr06 has strong linear correlation to target. We will just normalize it and keep it.(#sns.lineplot(train_in.attr06, y=train_in.node_minutes))\n",
    "3. attr10 seems to have one outlier which can be ommitted   #(train_in[train_in.attr10<max(train_in.attr10)].attr10.hist(bins = 50) )\n",
    "4. 'attr21', 'attr25', 'attr20', 'attr18', 'attr17' -> scale and use\n",
    "5. 'attr01', 'attr03', 'attr04','attr05' - make these catg variables - one hot encoding\n",
    "6. nodes, shots -> numeric\n",
    "7. scname -> catg\n",
    "\n",
    "\n",
    "Additional\n",
    "\n",
    "8. Consider making attr36 catgs -> binning."
   ]
  },
  {
   "cell_type": "code",
   "execution_count": 21,
   "metadata": {},
   "outputs": [],
   "source": [
    "train_in.executionstart = pd.to_datetime(train_in.executionstart)\n",
    "train_in['hour'] = train_in.executionstart.apply(lambda dt: dt.time().hour)\n",
    "train_in['peher'] = pd.cut(train_in.hour, bins=[-0.2, 6, 12, 18, 24])\n",
    "train_in['day_of_week'] = train_in.executionstart.apply(lambda dt: dt.isocalendar()[1])\n",
    "\n",
    "train_in['attr08_catg'] = train_in.attr08.apply(lambda i: attr08_binning(x=i))\n",
    "train_in = train_in[train_in.attr10 < max(train_in.attr10)]\n",
    "\n",
    "train_in.attr34 = train_in.attr34/1000000000\n",
    "\n",
    "num_for_scaling = ['attr06', 'attr10','attr21', 'attr25', 'attr20', 'attr18',\n",
    "                   'attr17', 'nodes','shots', 'attr35','attr34', 'attr36', 'attr37']\n",
    "\n",
    "catg_for_ohe = ['attr01', 'attr03', 'attr04','attr05', 'scname','ncpu','attr08_catg', 'day_of_week', 'peher']"
   ]
  },
  {
   "cell_type": "code",
   "execution_count": 22,
   "metadata": {},
   "outputs": [
    {
     "data": {
      "text/html": [
       "<div>\n",
       "<style scoped>\n",
       "    .dataframe tbody tr th:only-of-type {\n",
       "        vertical-align: middle;\n",
       "    }\n",
       "\n",
       "    .dataframe tbody tr th {\n",
       "        vertical-align: top;\n",
       "    }\n",
       "\n",
       "    .dataframe thead th {\n",
       "        text-align: right;\n",
       "    }\n",
       "</style>\n",
       "<table border=\"1\" class=\"dataframe\">\n",
       "  <thead>\n",
       "    <tr style=\"text-align: right;\">\n",
       "      <th></th>\n",
       "      <th>hour</th>\n",
       "      <th>attr33</th>\n",
       "      <th>attr08</th>\n",
       "      <th>executionstart</th>\n",
       "      <th>node_minutes</th>\n",
       "    </tr>\n",
       "    <tr>\n",
       "      <th>ID</th>\n",
       "      <th></th>\n",
       "      <th></th>\n",
       "      <th></th>\n",
       "      <th></th>\n",
       "      <th></th>\n",
       "    </tr>\n",
       "  </thead>\n",
       "  <tbody>\n",
       "    <tr>\n",
       "      <th>402296701</th>\n",
       "      <td>9</td>\n",
       "      <td>1656955</td>\n",
       "      <td>0</td>\n",
       "      <td>2018-11-08 09:09:57</td>\n",
       "      <td>197</td>\n",
       "    </tr>\n",
       "    <tr>\n",
       "      <th>402289644</th>\n",
       "      <td>9</td>\n",
       "      <td>1226489</td>\n",
       "      <td>0</td>\n",
       "      <td>2018-11-08 09:10:36</td>\n",
       "      <td>179</td>\n",
       "    </tr>\n",
       "    <tr>\n",
       "      <th>402143371</th>\n",
       "      <td>9</td>\n",
       "      <td>9753278</td>\n",
       "      <td>0</td>\n",
       "      <td>2018-11-08 09:10:43</td>\n",
       "      <td>1174</td>\n",
       "    </tr>\n",
       "    <tr>\n",
       "      <th>402106192</th>\n",
       "      <td>9</td>\n",
       "      <td>2032833</td>\n",
       "      <td>0</td>\n",
       "      <td>2018-11-08 09:10:55</td>\n",
       "      <td>926</td>\n",
       "    </tr>\n",
       "    <tr>\n",
       "      <th>401575307</th>\n",
       "      <td>9</td>\n",
       "      <td>131726</td>\n",
       "      <td>0</td>\n",
       "      <td>2018-11-08 09:11:10</td>\n",
       "      <td>64</td>\n",
       "    </tr>\n",
       "  </tbody>\n",
       "</table>\n",
       "</div>"
      ],
      "text/plain": [
       "           hour   attr33  attr08      executionstart  node_minutes\n",
       "ID                                                                \n",
       "402296701     9  1656955       0 2018-11-08 09:09:57           197\n",
       "402289644     9  1226489       0 2018-11-08 09:10:36           179\n",
       "402143371     9  9753278       0 2018-11-08 09:10:43          1174\n",
       "402106192     9  2032833       0 2018-11-08 09:10:55           926\n",
       "401575307     9   131726       0 2018-11-08 09:11:10            64"
      ]
     },
     "execution_count": 22,
     "metadata": {},
     "output_type": "execute_result"
    }
   ],
   "source": [
    "left = list(set(train_in.columns) - set(num_for_scaling) -set(catg_for_ohe))\n",
    "train_in[ left].head()"
   ]
  },
  {
   "cell_type": "code",
   "execution_count": 23,
   "metadata": {},
   "outputs": [],
   "source": [
    "# prepare test_set\n",
    "\n",
    "test_in.executionstart = pd.to_datetime(test_in.executionstart)\n",
    "test_in['hour'] = test_in.executionstart.apply(lambda dt: dt.time().hour)\n",
    "test_in['peher'] = pd.cut(test_in.hour, bins=[-0.2, 6, 12, 18, 24])\n",
    "test_in['day_of_week'] = test_in.executionstart.apply(lambda dt: dt.isocalendar()[1])\n",
    "\n",
    "test_in['attr08_catg'] = test_in.attr08.apply(lambda i: attr08_binning(x=i))\n",
    "test_in = test_in[test_in.attr10 < max(test_in.attr10)]\n",
    "\n",
    "test_in.attr34 = test_in.attr34/1000000000"
   ]
  },
  {
   "cell_type": "markdown",
   "metadata": {},
   "source": [
    "#### Model"
   ]
  },
  {
   "cell_type": "code",
   "execution_count": 24,
   "metadata": {},
   "outputs": [],
   "source": [
    "from sklearn.model_selection import train_test_split, KFold, GridSearchCV\n",
    "from sklearn.pipeline import make_pipeline, Pipeline\n",
    "from sklearn.preprocessing import StandardScaler, OneHotEncoder, MinMaxScaler, FunctionTransformer as FT\n",
    "import category_encoders as ce\n",
    "from sklearn.compose import ColumnTransformer\n",
    "from sklearn.linear_model import LinearRegression"
   ]
  },
  {
   "cell_type": "code",
   "execution_count": null,
   "metadata": {},
   "outputs": [],
   "source": []
  },
  {
   "cell_type": "code",
   "execution_count": 25,
   "metadata": {},
   "outputs": [],
   "source": [
    "preprocessor = ColumnTransformer(\n",
    "    transformers=[\n",
    "        ('one_hot', OneHotEncoder(), catg_for_ohe),\n",
    "        ('sqrt_transform', MinMaxScaler(), num_for_scaling)\n",
    "    ]\n",
    ")\n",
    "\n",
    "base_pipeline = Pipeline([\n",
    "    ('preprocessing', preprocessor),\n",
    "    ('lr', LinearRegression())   \n",
    "])\n"
   ]
  },
  {
   "cell_type": "code",
   "execution_count": 9,
   "metadata": {},
   "outputs": [
    {
     "data": {
      "text/plain": [
       "Pipeline(memory=None,\n",
       "     steps=[('preprocessing', ColumnTransformer(n_jobs=None, remainder='drop', sparse_threshold=0.3,\n",
       "         transformer_weights=None,\n",
       "         transformers=[('one_hot', OneHotEncoder(categorical_features=None, categories=None,\n",
       "       dtype=<class 'numpy.float64'>, handle_unknown='error',\n",
       "       n_value...), ('lr', LinearRegression(copy_X=True, fit_intercept=True, n_jobs=None,\n",
       "         normalize=False))])"
      ]
     },
     "execution_count": 9,
     "metadata": {},
     "output_type": "execute_result"
    }
   ],
   "source": [
    "base_pipeline.fit(train_in, train_in.node_minutes)\n",
    "# pred = base_pipeline.predict(test_in)"
   ]
  },
  {
   "cell_type": "code",
   "execution_count": 26,
   "metadata": {},
   "outputs": [
    {
     "data": {
      "text/plain": [
       "Int64Index([405558811, 405157005, 405558776, 405558777, 405558778, 405558779,\n",
       "            405558780, 405558810, 405460112, 405460097,\n",
       "            ...\n",
       "            406643637, 406643621, 406643638, 406643620, 406643639, 406643640,\n",
       "            406694518, 406643644, 406643645, 406643646],\n",
       "           dtype='int64', name='ID', length=24700)"
      ]
     },
     "execution_count": 26,
     "metadata": {},
     "output_type": "execute_result"
    }
   ],
   "source": [
    "test_in.index"
   ]
  },
  {
   "cell_type": "code",
   "execution_count": null,
   "metadata": {},
   "outputs": [],
   "source": []
  },
  {
   "cell_type": "code",
   "execution_count": 29,
   "metadata": {},
   "outputs": [
    {
     "data": {
      "text/plain": [
       "(24700, 26)"
      ]
     },
     "execution_count": 29,
     "metadata": {},
     "output_type": "execute_result"
    }
   ],
   "source": [
    "test_in.shape"
   ]
  },
  {
   "cell_type": "code",
   "execution_count": null,
   "metadata": {},
   "outputs": [],
   "source": []
  },
  {
   "cell_type": "code",
   "execution_count": null,
   "metadata": {},
   "outputs": [],
   "source": []
  },
  {
   "cell_type": "code",
   "execution_count": null,
   "metadata": {},
   "outputs": [],
   "source": []
  },
  {
   "cell_type": "code",
   "execution_count": null,
   "metadata": {},
   "outputs": [],
   "source": []
  }
 ],
 "metadata": {
  "kernelspec": {
   "display_name": "Python 3",
   "language": "python",
   "name": "python3"
  },
  "language_info": {
   "codemirror_mode": {
    "name": "ipython",
    "version": 3
   },
   "file_extension": ".py",
   "mimetype": "text/x-python",
   "name": "python",
   "nbconvert_exporter": "python",
   "pygments_lexer": "ipython3",
   "version": "3.6.7"
  }
 },
 "nbformat": 4,
 "nbformat_minor": 2
}
