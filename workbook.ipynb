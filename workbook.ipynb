{
 "cells": [
  {
   "cell_type": "code",
   "execution_count": 81,
   "metadata": {},
   "outputs": [],
   "source": [
    "from sklearn.base import BaseEstimator, TransformerMixin\n",
    "from sklearn.pipeline import Pipeline, FeatureUnion\n",
    "from sklearn.preprocessing import OneHotEncoder, StandardScaler, LabelEncoder\n",
    "from sklearn.model_selection import cross_val_score\n",
    "from sklearn.model_selection import KFold\n",
    "\n",
    "import matplotlib.pyplot as plt\n",
    "import seaborn as sb\n",
    "import pandas as pd\n",
    "import numpy as np\n",
    "import os\n",
    "import warnings \n",
    "\n",
    "warnings.filterwarnings('ignore')\n",
    "warnings.filterwarnings('ignore', category=DeprecationWarning)\n"
   ]
  },
  {
   "cell_type": "code",
   "execution_count": 82,
   "metadata": {},
   "outputs": [
    {
     "name": "stdout",
     "output_type": "stream",
     "text": [
      "Excluded feature set(no variation):\n",
      "['RESTART', 'ATTR02', 'ATTR07', 'RESENTSHOTS', 'NTHREADS', 'ATTR09', 'ATTR11', 'ATTR12', 'ATTR13', 'ATTR14', 'ATTR15', 'ATTR16', 'ATTR19', 'ATTR22', 'ATTR23', 'ATTR24', 'ATTR26', 'ATTR27', 'ATTR28', 'ATTR29', 'ATTR20.1', 'ATTR31', 'ATTR32', 'ATTR38', 'ATTR39', 'ATTR30', 'ATTR31.1', 'ATTR32.1']\n"
     ]
    }
   ],
   "source": [
    "\n",
    "DATA_FOLDER=\"./data/\"\n",
    "alldatafile = \"allData_pkaul.csv\"\n",
    "train_file = \"trainData_pkaul.csv\"\n",
    "test_file = \"testData_pkaul.csv\"\n",
    "\n",
    "train_in = pd.read_csv(os.path.join(DATA_FOLDER, train_file))\n",
    "test_in = pd.read_csv(os.path.join(DATA_FOLDER, test_file))\n",
    "all_in = pd.read_csv(os.path.join(DATA_FOLDER, alldatafile))\n",
    "\n",
    "# remove all features with no variation at all\n",
    "df = all_in.std().reset_index()\n",
    "df.rename(columns={'index':'feature', 0:'stddev'}, inplace=True)\n",
    "exclude_list = list(df[df.stddev==0].feature.unique())\n",
    "exclude_list_add = ['RESTART', 'ATTR02', 'ATTR07']\n",
    "\n",
    "print(\"Excluded feature set(no variation):\\n{}\".format(exclude_list_add + exclude_list))\n",
    "\n",
    "train_in.drop(columns=exclude_list_add + exclude_list, inplace=True)\n",
    "test_in.drop(columns=exclude_list_add + exclude_list, inplace=True)\n",
    "all_in.drop(columns=exclude_list_add + exclude_list, inplace=True)\n",
    "\n",
    "train_in.set_index('ID', inplace = True)\n",
    "test_in.set_index('ID', inplace = True)"
   ]
  },
  {
   "cell_type": "code",
   "execution_count": 83,
   "metadata": {},
   "outputs": [
    {
     "name": "stdout",
     "output_type": "stream",
     "text": [
      "(57636, 23)\n",
      "(24701, 22)\n",
      "Index(['NODE_MINUTES', 'NODES', 'EXECUTIONSTART', 'SHOTS', 'SCNAME', 'NCPU',\n",
      "       'ATTR01', 'ATTR03', 'ATTR04', 'ATTR05', 'ATTR06', 'ATTR08', 'ATTR10',\n",
      "       'ATTR17', 'ATTR18', 'ATTR20', 'ATTR21', 'ATTR25', 'ATTR33', 'ATTR34',\n",
      "       'ATTR35', 'ATTR36', 'ATTR37'],\n",
      "      dtype='object')\n"
     ]
    }
   ],
   "source": [
    "print(train_in.shape)\n",
    "print(test_in.shape)\n",
    "print(train_in.columns)"
   ]
  },
  {
   "cell_type": "code",
   "execution_count": 84,
   "metadata": {},
   "outputs": [
    {
     "name": "stdout",
     "output_type": "stream",
     "text": [
      "False\n"
     ]
    },
    {
     "data": {
      "text/html": [
       "<div>\n",
       "<style scoped>\n",
       "    .dataframe tbody tr th:only-of-type {\n",
       "        vertical-align: middle;\n",
       "    }\n",
       "\n",
       "    .dataframe tbody tr th {\n",
       "        vertical-align: top;\n",
       "    }\n",
       "\n",
       "    .dataframe thead th {\n",
       "        text-align: right;\n",
       "    }\n",
       "</style>\n",
       "<table border=\"1\" class=\"dataframe\">\n",
       "  <thead>\n",
       "    <tr style=\"text-align: right;\">\n",
       "      <th></th>\n",
       "      <th>NODE_MINUTES</th>\n",
       "      <th>NODES</th>\n",
       "      <th>EXECUTIONSTART</th>\n",
       "      <th>SHOTS</th>\n",
       "      <th>SCNAME</th>\n",
       "      <th>NCPU</th>\n",
       "      <th>ATTR01</th>\n",
       "      <th>ATTR03</th>\n",
       "      <th>ATTR04</th>\n",
       "      <th>ATTR05</th>\n",
       "      <th>...</th>\n",
       "      <th>ATTR17</th>\n",
       "      <th>ATTR18</th>\n",
       "      <th>ATTR20</th>\n",
       "      <th>ATTR21</th>\n",
       "      <th>ATTR25</th>\n",
       "      <th>ATTR33</th>\n",
       "      <th>ATTR34</th>\n",
       "      <th>ATTR35</th>\n",
       "      <th>ATTR36</th>\n",
       "      <th>ATTR37</th>\n",
       "    </tr>\n",
       "    <tr>\n",
       "      <th>ID</th>\n",
       "      <th></th>\n",
       "      <th></th>\n",
       "      <th></th>\n",
       "      <th></th>\n",
       "      <th></th>\n",
       "      <th></th>\n",
       "      <th></th>\n",
       "      <th></th>\n",
       "      <th></th>\n",
       "      <th></th>\n",
       "      <th></th>\n",
       "      <th></th>\n",
       "      <th></th>\n",
       "      <th></th>\n",
       "      <th></th>\n",
       "      <th></th>\n",
       "      <th></th>\n",
       "      <th></th>\n",
       "      <th></th>\n",
       "      <th></th>\n",
       "      <th></th>\n",
       "    </tr>\n",
       "  </thead>\n",
       "  <tbody>\n",
       "    <tr>\n",
       "      <th>402296701</th>\n",
       "      <td>197</td>\n",
       "      <td>12</td>\n",
       "      <td>2018-11-08 09:09:57</td>\n",
       "      <td>197</td>\n",
       "      <td>center_11</td>\n",
       "      <td>4</td>\n",
       "      <td>?</td>\n",
       "      <td>?</td>\n",
       "      <td>?</td>\n",
       "      <td>tamnone</td>\n",
       "      <td>...</td>\n",
       "      <td>192</td>\n",
       "      <td>160</td>\n",
       "      <td>300</td>\n",
       "      <td>19.221</td>\n",
       "      <td>84</td>\n",
       "      <td>1656955</td>\n",
       "      <td>9000103968</td>\n",
       "      <td>100</td>\n",
       "      <td>12</td>\n",
       "      <td>1196</td>\n",
       "    </tr>\n",
       "    <tr>\n",
       "      <th>402289644</th>\n",
       "      <td>179</td>\n",
       "      <td>8</td>\n",
       "      <td>2018-11-08 09:10:36</td>\n",
       "      <td>81</td>\n",
       "      <td>center_8</td>\n",
       "      <td>2</td>\n",
       "      <td>?</td>\n",
       "      <td>?</td>\n",
       "      <td>?</td>\n",
       "      <td>tamboth</td>\n",
       "      <td>...</td>\n",
       "      <td>160</td>\n",
       "      <td>160</td>\n",
       "      <td>300</td>\n",
       "      <td>14.910</td>\n",
       "      <td>84</td>\n",
       "      <td>1226489</td>\n",
       "      <td>9978282770</td>\n",
       "      <td>219</td>\n",
       "      <td>8</td>\n",
       "      <td>1750</td>\n",
       "    </tr>\n",
       "    <tr>\n",
       "      <th>402143371</th>\n",
       "      <td>1174</td>\n",
       "      <td>8</td>\n",
       "      <td>2018-11-08 09:10:43</td>\n",
       "      <td>254</td>\n",
       "      <td>center_8</td>\n",
       "      <td>2</td>\n",
       "      <td>?</td>\n",
       "      <td>?</td>\n",
       "      <td>?</td>\n",
       "      <td>tamboth</td>\n",
       "      <td>...</td>\n",
       "      <td>192</td>\n",
       "      <td>160</td>\n",
       "      <td>530</td>\n",
       "      <td>34.842</td>\n",
       "      <td>110</td>\n",
       "      <td>9753278</td>\n",
       "      <td>63123134349</td>\n",
       "      <td>141</td>\n",
       "      <td>10</td>\n",
       "      <td>1401</td>\n",
       "    </tr>\n",
       "    <tr>\n",
       "      <th>402106192</th>\n",
       "      <td>926</td>\n",
       "      <td>8</td>\n",
       "      <td>2018-11-08 09:10:55</td>\n",
       "      <td>129</td>\n",
       "      <td>center_1</td>\n",
       "      <td>4</td>\n",
       "      <td>?</td>\n",
       "      <td>?</td>\n",
       "      <td>?</td>\n",
       "      <td>tamboth</td>\n",
       "      <td>...</td>\n",
       "      <td>192</td>\n",
       "      <td>224</td>\n",
       "      <td>337</td>\n",
       "      <td>26.395</td>\n",
       "      <td>47</td>\n",
       "      <td>2032833</td>\n",
       "      <td>19165217816</td>\n",
       "      <td>390</td>\n",
       "      <td>6</td>\n",
       "      <td>2335</td>\n",
       "    </tr>\n",
       "    <tr>\n",
       "      <th>401575307</th>\n",
       "      <td>64</td>\n",
       "      <td>4</td>\n",
       "      <td>2018-11-08 09:11:10</td>\n",
       "      <td>6</td>\n",
       "      <td>center_8</td>\n",
       "      <td>2</td>\n",
       "      <td>?</td>\n",
       "      <td>tamnone</td>\n",
       "      <td>?</td>\n",
       "      <td>?</td>\n",
       "      <td>...</td>\n",
       "      <td>320</td>\n",
       "      <td>256</td>\n",
       "      <td>334</td>\n",
       "      <td>54.036</td>\n",
       "      <td>114</td>\n",
       "      <td>131726</td>\n",
       "      <td>943684845</td>\n",
       "      <td>188</td>\n",
       "      <td>8</td>\n",
       "      <td>1501</td>\n",
       "    </tr>\n",
       "  </tbody>\n",
       "</table>\n",
       "<p>5 rows × 23 columns</p>\n",
       "</div>"
      ],
      "text/plain": [
       "           NODE_MINUTES  NODES       EXECUTIONSTART  SHOTS     SCNAME  NCPU  \\\n",
       "ID                                                                            \n",
       "402296701           197     12  2018-11-08 09:09:57    197  center_11     4   \n",
       "402289644           179      8  2018-11-08 09:10:36     81   center_8     2   \n",
       "402143371          1174      8  2018-11-08 09:10:43    254   center_8     2   \n",
       "402106192           926      8  2018-11-08 09:10:55    129   center_1     4   \n",
       "401575307            64      4  2018-11-08 09:11:10      6   center_8     2   \n",
       "\n",
       "          ATTR01   ATTR03 ATTR04   ATTR05   ...    ATTR17  ATTR18  ATTR20  \\\n",
       "ID                                          ...                             \n",
       "402296701      ?        ?      ?  tamnone   ...       192     160     300   \n",
       "402289644      ?        ?      ?  tamboth   ...       160     160     300   \n",
       "402143371      ?        ?      ?  tamboth   ...       192     160     530   \n",
       "402106192      ?        ?      ?  tamboth   ...       192     224     337   \n",
       "401575307      ?  tamnone      ?        ?   ...       320     256     334   \n",
       "\n",
       "           ATTR21  ATTR25   ATTR33       ATTR34  ATTR35  ATTR36  ATTR37  \n",
       "ID                                                                       \n",
       "402296701  19.221      84  1656955   9000103968     100      12    1196  \n",
       "402289644  14.910      84  1226489   9978282770     219       8    1750  \n",
       "402143371  34.842     110  9753278  63123134349     141      10    1401  \n",
       "402106192  26.395      47  2032833  19165217816     390       6    2335  \n",
       "401575307  54.036     114   131726    943684845     188       8    1501  \n",
       "\n",
       "[5 rows x 23 columns]"
      ]
     },
     "execution_count": 84,
     "metadata": {},
     "output_type": "execute_result"
    }
   ],
   "source": [
    "print(train_in.isnull().values.any())\n",
    "train_in.head()"
   ]
  },
  {
   "cell_type": "code",
   "execution_count": 85,
   "metadata": {},
   "outputs": [
    {
     "name": "stdout",
     "output_type": "stream",
     "text": [
      "['NODES', 'SHOTS', 'ATTR06', 'ATTR08', 'ATTR10', 'ATTR17', 'ATTR18', 'ATTR20', 'ATTR21', 'ATTR25', 'ATTR33', 'ATTR34', 'ATTR35', 'ATTR36', 'ATTR37', 'NCPU', 'SCNAME', 'ATTR01', 'ATTR03', 'ATTR04', 'ATTR05']\n",
      "# Features: 21\n"
     ]
    }
   ],
   "source": [
    "target_column = 'NODE_MINUTES'\n",
    "exclude_columns = ['EXECUTIONSTART']\n",
    "\n",
    "# Marking categorical columns\n",
    "catg_columns = ['NCPU', 'SCNAME', 'ATTR01', 'ATTR03', 'ATTR04', 'ATTR05']\n",
    "for feature in catg_columns:\n",
    "    train_in[feature] = train_in[feature].astype('category')\n",
    "    test_in[feature] = test_in[feature].astype('category')\n",
    "\n",
    "# Numeric columns\n",
    "numeric_columns = list(train_in.select_dtypes(include=[np.number]).columns)\n",
    "\n",
    "features = numeric_columns + catg_columns\n",
    "features.remove(target_column)\n",
    "print(features)\n",
    "print(\"# Features: {}\".format(len(features)))"
   ]
  },
  {
   "cell_type": "code",
   "execution_count": 86,
   "metadata": {},
   "outputs": [],
   "source": [
    "x_train = train_in[features]\n",
    "y_train = train_in[target_column]\n",
    "\n",
    "x_test = test_in[features]\n",
    "x_test = x_test[x_test.SCNAME!='center_5'] # for now"
   ]
  },
  {
   "cell_type": "code",
   "execution_count": null,
   "metadata": {},
   "outputs": [],
   "source": []
  },
  {
   "cell_type": "markdown",
   "metadata": {},
   "source": [
    "#### transformers"
   ]
  },
  {
   "cell_type": "code",
   "execution_count": 87,
   "metadata": {},
   "outputs": [],
   "source": [
    "# include transformers\n",
    "\n",
    "class TypeSelector(BaseEstimator, TransformerMixin):\n",
    "    def __init__(self, dtype):\n",
    "        self.dtype = dtype\n",
    "    def fit(self, X, y=None):\n",
    "        return self\n",
    "    def transform(self, X):\n",
    "        assert isinstance(X, pd.DataFrame)\n",
    "        return X.select_dtypes(include=[self.dtype])\n",
    "        \n",
    "        \n",
    "class ColumnSelector(BaseEstimator, TransformerMixin):\n",
    "    def __init__(self, key):\n",
    "        self.key = key    \n",
    "    def fit(self, X, y=None):\n",
    "        return self   \n",
    "    def transform(self, X):\n",
    "        assert isinstance(X, pd.DataFrame)\n",
    "        return X[[self.key]]"
   ]
  },
  {
   "cell_type": "markdown",
   "metadata": {},
   "source": [
    "#### Feature processing pipeline"
   ]
  },
  {
   "cell_type": "code",
   "execution_count": 88,
   "metadata": {},
   "outputs": [],
   "source": [
    "\n",
    "# pipeline -> array of tuples of the format (name, object)\n",
    "\n",
    "numeric_feature_scaling = Pipeline([\n",
    "    ('numeric_cols', TypeSelector(dtype=np.number)),\n",
    "    ('std_scaler', StandardScaler())\n",
    "])\n",
    "\n",
    "catg_one_hot_encoding = Pipeline([\n",
    "    ('catg_cols', TypeSelector(dtype='category')),\n",
    "    ('one_hot_encoding', OneHotEncoder())\n",
    "])\n",
    "\n",
    "feats = FeatureUnion([('numeric', numeric_feature_scaling), \n",
    "                      ('category', catg_one_hot_encoding)\n",
    "                     ])\n",
    "\n",
    "feature_processing = Pipeline([('feats', feats)])"
   ]
  },
  {
   "cell_type": "markdown",
   "metadata": {},
   "source": [
    "#### Model"
   ]
  },
  {
   "cell_type": "code",
   "execution_count": 104,
   "metadata": {},
   "outputs": [],
   "source": [
    "from keras.models import Sequential\n",
    "from keras.layers import Dense\n",
    "from keras.wrappers.scikit_learn import KerasRegressor\n",
    "\n",
    "# define base model\n",
    "def baseline_model():\n",
    "    # create model\n",
    "    model = Sequential()\n",
    "    model.add(Dense(39, input_dim=39, kernel_initializer='normal', activation='relu'))\n",
    "    model.add(Dense(10, kernel_initializer='normal', activation='relu'))\n",
    "    model.add(Dense(6, kernel_initializer='normal', activation='relu'))\n",
    "    model.add(Dense(1, kernel_initializer='normal'))\n",
    "    # Compile model\n",
    "    model.compile(loss='mean_squared_error', optimizer='adam')\n",
    "    return model\n",
    "\n",
    "# fix random seed for reproducibility\n",
    "seed = 7\n",
    "np.random.seed(seed)\n",
    "\n",
    "# evaluate model with standardized dataset\n",
    "dnn = KerasRegressor(build_fn=baseline_model, epochs=1000, batch_size=5000, verbose=0)\n"
   ]
  },
  {
   "cell_type": "markdown",
   "metadata": {},
   "source": [
    "#### Final pipeline"
   ]
  },
  {
   "cell_type": "code",
   "execution_count": 105,
   "metadata": {},
   "outputs": [],
   "source": [
    "pipeline = Pipeline([\n",
    "    ('features',feats),\n",
    "    ('regressor', dnn)\n",
    "])"
   ]
  },
  {
   "cell_type": "code",
   "execution_count": null,
   "metadata": {},
   "outputs": [],
   "source": []
  },
  {
   "cell_type": "code",
   "execution_count": null,
   "metadata": {},
   "outputs": [],
   "source": []
  },
  {
   "cell_type": "code",
   "execution_count": 106,
   "metadata": {},
   "outputs": [
    {
     "name": "stdout",
     "output_type": "stream",
     "text": [
      "[ 0.50264106  0.48564458 -3.08926247  0.54512305  0.89140986  0.92278815\n",
      "  0.52594144  0.93032305  0.93371591  0.79031009]\n"
     ]
    }
   ],
   "source": [
    "kfold = KFold(n_splits=10, random_state=seed)\n",
    "results = cross_val_score(pipeline, x_train, y_train, cv=kfold, scoring='r2')\n",
    "print(results)"
   ]
  },
  {
   "cell_type": "code",
   "execution_count": null,
   "metadata": {},
   "outputs": [],
   "source": []
  },
  {
   "cell_type": "code",
   "execution_count": null,
   "metadata": {},
   "outputs": [],
   "source": []
  }
 ],
 "metadata": {
  "kernelspec": {
   "display_name": "Python 3",
   "language": "python",
   "name": "python3"
  },
  "language_info": {
   "codemirror_mode": {
    "name": "ipython",
    "version": 3
   },
   "file_extension": ".py",
   "mimetype": "text/x-python",
   "name": "python",
   "nbconvert_exporter": "python",
   "pygments_lexer": "ipython3",
   "version": "3.6.6"
  }
 },
 "nbformat": 4,
 "nbformat_minor": 2
}
